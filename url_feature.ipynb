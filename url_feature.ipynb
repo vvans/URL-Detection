{
  "nbformat": 4,
  "nbformat_minor": 0,
  "metadata": {
    "colab": {
      "name": "url_feature.ipynb",
      "provenance": [],
      "collapsed_sections": []
    },
    "kernelspec": {
      "name": "python3",
      "display_name": "Python 3"
    },
    "language_info": {
      "name": "python"
    }
  },
  "cells": [
    {
      "cell_type": "code",
      "execution_count": 14,
      "metadata": {
        "colab": {
          "base_uri": "https://localhost:8080/"
        },
        "id": "HreM5XUjZwLb",
        "outputId": "2a26f9ee-e636-4a0a-9cd1-697c89758204"
      },
      "outputs": [
        {
          "output_type": "stream",
          "name": "stdout",
          "text": [
            "151.101.1.91\n"
          ]
        }
      ],
      "source": [
        "from urllib.parse import urlparse\n",
        "import socket\n",
        " \n",
        "url = 'https://www.popsci.com/story/science/haribo-gummy-candy-flavor/'\n",
        "o = urlparse(url)\n",
        " \n",
        "# 주어진 주소로부터 호스트 이름과 포트 알아내기\n",
        "hostname = o.hostname\n",
        "port = o.port or (443 if o.scheme == 'https' else 80)\n",
        " \n",
        "ip_addr = socket.getaddrinfo(hostname, port)[0][4][0]\n",
        "print(ip_addr)"
      ]
    },
    {
      "cell_type": "code",
      "source": [
        "import ipaddress\n",
        "ipaddress.ip_address(ip_addr)\n",
        "# 정상적인 ip주소가 아닌 값을 인자로 넣었을 경우 error반환\n",
        "# AddressValueError: At most 3 characters permitted in '1000' in '1000.10.10.10'"
      ],
      "metadata": {
        "colab": {
          "base_uri": "https://localhost:8080/"
        },
        "id": "l4gUDqPgaS5-",
        "outputId": "8624aacb-a3fa-46b9-a159-8ba066c556f3"
      },
      "execution_count": 15,
      "outputs": [
        {
          "output_type": "execute_result",
          "data": {
            "text/plain": [
              "IPv4Address('151.101.1.91')"
            ]
          },
          "metadata": {},
          "execution_count": 15
        }
      ]
    },
    {
      "cell_type": "code",
      "source": [
        "# url길이 추출\n",
        "urllen = len(url)\n",
        "print(urllen)"
      ],
      "metadata": {
        "colab": {
          "base_uri": "https://localhost:8080/"
        },
        "id": "dZKWOZove1Gh",
        "outputId": "5aff9459-d7b8-4b1f-f06b-9799a889b060"
      },
      "execution_count": 16,
      "outputs": [
        {
          "output_type": "stream",
          "name": "stdout",
          "text": [
            "63\n"
          ]
        }
      ]
    },
    {
      "cell_type": "code",
      "source": [
        "import urllib.parse\n",
        "\n",
        "parse = urllib.parse.urlparse(url)\n",
        "path = parse.path\n",
        "\n",
        "print(path)"
      ],
      "metadata": {
        "colab": {
          "base_uri": "https://localhost:8080/"
        },
        "id": "nm5y3acTlx2M",
        "outputId": "06b29f0b-6e27-42e8-dba8-df472a27a0c8"
      },
      "execution_count": 17,
      "outputs": [
        {
          "output_type": "stream",
          "name": "stdout",
          "text": [
            "/story/science/haribo-gummy-candy-flavor/\n"
          ]
        }
      ]
    },
    {
      "cell_type": "code",
      "source": [
        "#Length of first directory : 첫번째 /부터 두번째/사이의 length\n",
        "dir = path.split('/')\n",
        "first_dir = dir[1]\n",
        "print(first_dir)"
      ],
      "metadata": {
        "colab": {
          "base_uri": "https://localhost:8080/"
        },
        "id": "J8lUTqsvp_y8",
        "outputId": "ae69931c-5988-46e3-ceba-b1d139e26ae3"
      },
      "execution_count": 29,
      "outputs": [
        {
          "output_type": "stream",
          "name": "stdout",
          "text": [
            "story\n"
          ]
        }
      ]
    },
    {
      "cell_type": "code",
      "source": [
        "#length of path \n",
        "\n",
        "len_path = path.count('/') -1 \n",
        "print(len_path)"
      ],
      "metadata": {
        "colab": {
          "base_uri": "https://localhost:8080/"
        },
        "id": "gFlZ4IUy6C0B",
        "outputId": "7989c240-6ca6-4e88-da43-332bef9d81c2"
      },
      "execution_count": 35,
      "outputs": [
        {
          "output_type": "stream",
          "name": "stdout",
          "text": [
            "3\n"
          ]
        }
      ]
    }
  ]
}